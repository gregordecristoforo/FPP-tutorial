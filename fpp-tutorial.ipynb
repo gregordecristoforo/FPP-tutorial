{
 "cells": [
  {
   "cell_type": "markdown",
   "metadata": {},
   "source": [
    "We recommend using a new virtual environment"
   ]
  },
  {
   "cell_type": "code",
   "execution_count": null,
   "metadata": {},
   "outputs": [],
   "source": [
    "pip install netCDF4 dask superposed-pulses blobmodel fppanalysis closedexpressions"
   ]
  },
  {
   "cell_type": "markdown",
   "metadata": {},
   "source": [
    "Let's create a synthetic time series"
   ]
  },
  {
   "cell_type": "code",
   "execution_count": null,
   "metadata": {},
   "outputs": [],
   "source": [
    "# Import the stuff we need\n",
    "%matplotlib notebook\n",
    "import matplotlib.pyplot as plt\n",
    "import model.point_model as pm\n",
    "import numpy as np\n",
    "import fppanalysis as fa\n",
    "from scipy import signal\n",
    "import closedexpressions as ce"
   ]
  },
  {
   "cell_type": "code",
   "execution_count": null,
   "metadata": {},
   "outputs": [],
   "source": [
    "model = pm.PointModel(gamma=1, total_duration=100, dt=0.01)\n",
    "time_array, signal_array = model.make_realization()\n",
    "\n",
    "plt.plot(time_array, signal_array)\n",
    "plt.show()\n"
   ]
  },
  {
   "cell_type": "code",
   "execution_count": null,
   "metadata": {},
   "outputs": [],
   "source": [
    "# Estimate the pulse shape by plotting the power spectra density using Welch method\n",
    "\n",
    "signal_normalized = (signal_array - signal_array.mean())/signal_array.std()\n",
    "\n",
    "frequency, power_spectra = signal.welch(x=signal_normalized, fs=1/0.01, nperseg=2**12)\n",
    "\n",
    "omega = 2 * np.pi * frequency\n",
    "\n",
    "# Using curve_fit, we estimate the average duration time of the pulses and the asymmetry parameter\n",
    "\n",
    "\n",
    "plt.figure('power spectral density')\n",
    "plt.loglog(omega, power_spectra)\n",
    "plt.loglog(omega, ce.psd(omega, 1, 0.00))\n",
    "plt.xlabel(r'$\\omega$')\n",
    "plt.ylabel(r'$\\Omega_{\\widetilde{\\Phi}}$')"
   ]
  },
  {
   "cell_type": "code",
   "execution_count": null,
   "metadata": {},
   "outputs": [],
   "source": [
    "# Function for a two-sided exponential pulse\n",
    "\n",
    "def get_double_exponential_shape(\n",
    "        times: np.ndarray, duration: float, lam: float\n",
    "    ) -> np.ndarray:\n",
    "        assert (lam >= 0.0) & (lam < 1.0)\n",
    "        kern = np.zeros(len(times))\n",
    "        kern[times < 0] = np.exp(times[times < 0] / lam / duration)\n",
    "        kern[times >= 0] = np.exp(-times[times >= 0] / (1 - lam) / duration)\n",
    "        return kern"
   ]
  },
  {
   "cell_type": "code",
   "execution_count": null,
   "metadata": {},
   "outputs": [],
   "source": [
    "dt=0.01\n",
    "kern_size = 2**11\n",
    "time_kern = np.arange(-kern_size, kern_size + 1) * dt\n",
    "kern_array = get_double_exponential_shape(time_kern, 1, lam=0.00)\n",
    "\n",
    "plt.figure('pulse shape')\n",
    "plt.plot(time_kern,kern_array)\n",
    "plt.xlim(-10,10)"
   ]
  },
  {
   "cell_type": "code",
   "execution_count": null,
   "metadata": {},
   "outputs": [],
   "source": [
    "# Run the deconvolution\n",
    "\n",
    "forcing, error = fa.RL_gauss_deconvolve(signal=signal_array,kern=kern_array,iteration_list=int(1e3),gpu=False)"
   ]
  },
  {
   "cell_type": "code",
   "execution_count": null,
   "metadata": {},
   "outputs": [],
   "source": [
    "plt.figure('forcing')\n",
    "plt.plot(time_array, forcing[:, -1])\n",
    "plt.show()\n",
    "\n",
    "plt.figure('error')\n",
    "plt.loglog(error)"
   ]
  },
  {
   "cell_type": "code",
   "execution_count": null,
   "metadata": {
    "scrolled": false
   },
   "outputs": [],
   "source": [
    "# We use a three-point running maxima to extract amplitudes and arrival times\n",
    "\n",
    "estimated_arrivals, estimated_amplitudes = fa.three_point_maxima(forcing[:, -1], time_array, height=0.1)\n",
    "\n",
    "plt.figure()\n",
    "plt.plot(time_array, signal_array, label='Realization')\n",
    "plt.plot(estimated_arrivals, estimated_amplitudes, marker='o', linestyle='None', label='Amplitudes')\n",
    "plt.show()"
   ]
  },
  {
   "cell_type": "markdown",
   "metadata": {},
   "source": [
    "We can extend the model by adding a radial coordinate:"
   ]
  },
  {
   "cell_type": "code",
   "execution_count": null,
   "metadata": {},
   "outputs": [],
   "source": [
    "from blobmodel import Model, show_model\n",
    "\n",
    "bm = Model(Nx=200, Ny=1, Lx=10, Ly=0, dt=0.1, T=20, blob_shape='exp',num_blobs=100)\n",
    "\n",
    "ds = bm.make_realization(file_name=\"example.nc\")"
   ]
  },
  {
   "cell_type": "code",
   "execution_count": null,
   "metadata": {},
   "outputs": [],
   "source": [
    "show_model(ds, save=True, gif_name = 'evolving_profile.gif')"
   ]
  },
  {
   "cell_type": "code",
   "execution_count": null,
   "metadata": {},
   "outputs": [],
   "source": [
    "# from IPython.display import Image\n",
    "# Image(filename=\"evolving_profile.gif\")"
   ]
  },
  {
   "cell_type": "code",
   "execution_count": null,
   "metadata": {},
   "outputs": [],
   "source": [
    "from blobmodel import Model, DefaultBlobFactory\n",
    "import numpy as np\n",
    "\n",
    "# use DefaultBlobFactory to define distribution functions fo random variables\n",
    "bf = DefaultBlobFactory(A_dist=\"deg\", W_dist=\"deg\", vx_dist=\"deg\", vy_dist=\"zeros\")\n",
    "\n",
    "tmp = Model(\n",
    "    Nx=100,\n",
    "    Ny=1,\n",
    "    Lx=10,\n",
    "    Ly=0,\n",
    "    dt=1,\n",
    "    T=1000,\n",
    "    blob_shape=\"exp\",\n",
    "    t_drain=2,\n",
    "    periodic_y=False,\n",
    "    num_blobs=10000,\n",
    "    blob_factory=bf,\n",
    ")\n",
    "\n",
    "ds = tmp.make_realization(file_name=\"profile_comparison.nc\", speed_up=True, error=1e-2)\n",
    "\n",
    "\n",
    "def plot_convergence_to_analytical_solution(ds):\n",
    "\n",
    "    x = np.linspace(0, 10, 100)\n",
    "    t_p = 1\n",
    "    t_w = 1 / 10\n",
    "    amp = 1\n",
    "    v_p = 1.0\n",
    "    t_loss = 2.0\n",
    "    t_d = t_loss * t_p / (t_loss + t_p)\n",
    "\n",
    "    analytical_profile = (\n",
    "        1 / np.sqrt(np.pi) * t_d / t_w * amp * np.exp(-x / (v_p * t_loss))\n",
    "    )\n",
    "\n",
    "    ds.n.isel(y=0).mean(dim=(\"t\")).plot(label=\"blob_model\")\n",
    "    plt.yscale(\"log\")\n",
    "    plt.plot(x, analytical_profile, label=\"analytical solution\")\n",
    "    plt.legend()\n",
    "    plt.show()\n",
    "\n",
    "\n",
    "plot_convergence_to_analytical_solution(ds)"
   ]
  },
  {
   "cell_type": "code",
   "execution_count": null,
   "metadata": {},
   "outputs": [],
   "source": [
    "from blobmodel import Model, show_model\n",
    "\n",
    "# here you can define your custom parameter distributions\n",
    "\n",
    "bm = Model(\n",
    "    Nx=100,\n",
    "    Ny=100,\n",
    "    Lx=10,\n",
    "    Ly=10,\n",
    "    dt=0.1,\n",
    "    T=20,\n",
    "    periodic_y=True,\n",
    "    blob_shape=\"gauss\",\n",
    "    num_blobs=100,\n",
    "    t_drain=1e10,\n",
    ")\n",
    "\n",
    "# create data\n",
    "ds = bm.make_realization(speed_up=True, error=1e-2)\n",
    "# show animation and save as gif\n",
    "show_model(dataset=ds, interval=100, save=True, gif_name=\"2d_blobs.gif\", fps=10)"
   ]
  },
  {
   "cell_type": "code",
   "execution_count": null,
   "metadata": {},
   "outputs": [],
   "source": [
    "# from IPython.display import Image\n",
    "# Image(filename=\"2d_blobs.gif\")"
   ]
  }
 ],
 "metadata": {
  "kernelspec": {
   "display_name": "Python 3 (ipykernel)",
   "language": "python",
   "name": "python3"
  },
  "language_info": {
   "codemirror_mode": {
    "name": "ipython",
    "version": 3
   },
   "file_extension": ".py",
   "mimetype": "text/x-python",
   "name": "python",
   "nbconvert_exporter": "python",
   "pygments_lexer": "ipython3",
   "version": "3.9.7"
  },
  "vscode": {
   "interpreter": {
    "hash": "8efcf50e5d59cbfa41f4f67a97112af66648f7cb412ee84dda84c4a6f1649145"
   }
  }
 },
 "nbformat": 4,
 "nbformat_minor": 2
}
